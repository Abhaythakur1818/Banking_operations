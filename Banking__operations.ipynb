{
 "cells": [
  {
   "cell_type": "markdown",
   "id": "92e89e1c",
   "metadata": {},
   "source": [
    "# BANK OPERATIONS USING OBJECT ORIENTED PROGRAMMING IN PYTHON :-"
   ]
  },
  {
   "cell_type": "code",
   "execution_count": 1,
   "id": "9d73284a",
   "metadata": {},
   "outputs": [],
   "source": [
    "class Bank:\n",
    "    bankname=\"State Bank Of India\"   # STATIC VARIABLES\n",
    "    branch=\" A23,Barra \"\n",
    "    city='Kanpur'\n",
    "\n",
    "    #create account\n",
    "    def __init__(self,username,pan,address):   # CONSTRUCTOR \n",
    "        self.username=username\n",
    "        self.pan=pan\n",
    "        self.address=address\n",
    "        self.balance=0.0 # set account balance to 0.0\n",
    "        print(f'Hello {self.username} Congo ! Your Account Created Successfully ')\n",
    "\n",
    "    #DEPOSIT THE AMOUNT\n",
    "    def deposit(self,amount):\n",
    "        self.balance=self.balance+amount\n",
    "        print(f'{amount} Deposited Successfully')\n",
    "\n",
    "    #WITHDRAW THE MONEY\n",
    "    def withdraw(self,amount):\n",
    "        if amount<self.balance:\n",
    "            self.balance=self.balance-amount\n",
    "            print(f'{amount} Withdraw Successfully')\n",
    "        else:\n",
    "            print('Insufficent Funds...')\n",
    "\n",
    "    #MINISTATEMENT\n",
    "    def ministatement(self):\n",
    "        print(f'Your account balance is {self.balance}')"
   ]
  },
  {
   "cell_type": "code",
   "execution_count": null,
   "id": "650d7c9e",
   "metadata": {},
   "outputs": [
    {
     "name": "stdout",
     "output_type": "stream",
     "text": [
      "Welcome to State Bank Of India ,  A23,Barra  , Kanpur\n"
     ]
    }
   ],
   "source": [
    "print(f'Welcome to {Bank.bankname} , {Bank.branch} , {Bank.city}')\n",
    "#collect user data for account creation\n",
    "username=input('Enter Your name :')\n",
    "pan=input('Enter PAN card number : ')\n",
    "address=input('Enter Your address : ')\n",
    "\n",
    "b=Bank(username,pan,address) # object creation based on user provided data"
   ]
  },
  {
   "cell_type": "code",
   "execution_count": null,
   "id": "d31eb93a",
   "metadata": {},
   "outputs": [],
   "source": [
    "while True:\n",
    "    print('\\nPlease Select any Option : ')\n",
    "    print('1.Deposit\\n2.Withdraw\\n3.Ministatement\\n4.Stop')\n",
    "    option=int(input(' '))\n",
    "\n",
    "    if option==1:\n",
    "        amount=float(input('Enter Deposited amount : '))\n",
    "        b.deposit(amount)\n",
    "\n",
    "    elif option==2:\n",
    "        amount=float(input('Enter Withdraw amount : '))\n",
    "        b.withdraw(amount)\n",
    "\n",
    "    elif option==3:\n",
    "        b.ministatement()\n",
    "\n",
    "    elif option==4:\n",
    "        print('Thanks for using State Bank Of India .... ')\n",
    "        break\n",
    "    else:\n",
    "        print('Invalid Option Please Select A Valid Option')"
   ]
  },
  {
   "cell_type": "code",
   "execution_count": null,
   "id": "d71af81d",
   "metadata": {},
   "outputs": [],
   "source": []
  }
 ],
 "metadata": {
  "kernelspec": {
   "display_name": "Python 3 (ipykernel)",
   "language": "python",
   "name": "python3"
  },
  "language_info": {
   "codemirror_mode": {
    "name": "ipython",
    "version": 3
   },
   "file_extension": ".py",
   "mimetype": "text/x-python",
   "name": "python",
   "nbconvert_exporter": "python",
   "pygments_lexer": "ipython3",
   "version": "3.10.9"
  }
 },
 "nbformat": 4,
 "nbformat_minor": 5
}
